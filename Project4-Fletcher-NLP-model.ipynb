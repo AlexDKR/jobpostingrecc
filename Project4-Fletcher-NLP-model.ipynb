{
 "cells": [
  {
   "cell_type": "code",
   "execution_count": 349,
   "metadata": {
    "collapsed": false
   },
   "outputs": [
    {
     "name": "stdout",
     "output_type": "stream",
     "text": [
      "Populating the interactive namespace from numpy and matplotlib\n"
     ]
    }
   ],
   "source": [
    "import pickle\n",
    "\n",
    "%pylab inline\n",
    "import numpy \n",
    "import matplotlib.pyplot as plt\n",
    "import sklearn\n",
    "# Import all of the scikit learn stuff\n",
    "from __future__ import print_function, division\n",
    "from sklearn.decomposition import TruncatedSVD, NMF\n",
    "from sklearn.feature_extraction.text import TfidfVectorizer \n",
    "from sklearn.feature_extraction.text import CountVectorizer \n",
    "from sklearn.preprocessing import Normalizer\n",
    "from sklearn import metrics\n",
    "from sklearn.cluster import KMeans, MiniBatchKMeans\n",
    "import pandas as pd\n",
    "import re\n",
    "from pprint import pprint\n",
    "\n",
    "import nltk\n",
    "from nltk.corpus import stopwords\n",
    "from wordcloud import WordCloud\n",
    "from sklearn.decomposition import TruncatedSVD, NMF\n",
    "from sklearn.preprocessing import Normalizer\n",
    "from sklearn.manifold import TSNE\n",
    "from nltk import word_tokenize \n",
    "from sklearn.metrics.pairwise import cosine_similarity\n",
    "\n",
    "from nltk.stem import WordNetLemmatizer \n",
    "from nltk.stem.porter import *\n",
    "import seaborn as sns"
   ]
  },
  {
   "cell_type": "code",
   "execution_count": 238,
   "metadata": {
    "collapsed": true
   },
   "outputs": [],
   "source": [
    "posts = pickle.load(open(\"jobposts2.p\", \"rb\"))\n"
   ]
  },
  {
   "cell_type": "code",
   "execution_count": 200,
   "metadata": {
    "collapsed": false
   },
   "outputs": [
    {
     "data": {
      "text/plain": [
       "(34453, 8)"
      ]
     },
     "execution_count": 200,
     "metadata": {},
     "output_type": "execute_result"
    }
   ],
   "source": [
    "posts.shape"
   ]
  },
  {
   "cell_type": "code",
   "execution_count": 319,
   "metadata": {
    "collapsed": false
   },
   "outputs": [],
   "source": [
    "posts_no_wiki = posts[~(posts['source']=='wiki')]"
   ]
  },
  {
   "cell_type": "code",
   "execution_count": 320,
   "metadata": {
    "collapsed": true
   },
   "outputs": [],
   "source": [
    "docs_no_wiki = posts_no_wiki['desc']"
   ]
  },
  {
   "cell_type": "code",
   "execution_count": 239,
   "metadata": {
    "collapsed": false
   },
   "outputs": [],
   "source": [
    "docs_dup_drop = posts['desc']"
   ]
  },
  {
   "cell_type": "code",
   "execution_count": 33,
   "metadata": {
    "collapsed": true
   },
   "outputs": [],
   "source": [
    "class LemmaTokenizer(object):\n",
    "    def __init__(self):\n",
    "        self.wnl = PorterStemmer()\n",
    "    def __call__(self, doc):\n",
    "        return [self.wnl.stem(t) for t in word_tokenize(doc)]"
   ]
  },
  {
   "cell_type": "code",
   "execution_count": 321,
   "metadata": {
    "collapsed": true
   },
   "outputs": [],
   "source": [
    "#try with no duplicates\n",
    "tfidf_nodup = TfidfVectorizer(stop_words=\"english\", token_pattern=\"\\\\b[a-z][a-z]+\\\\b\", min_df=.002, max_df=0.40)\n",
    "tfidf_vecs_nodup = tfidf_nodup.fit_transform(docs_no_wiki)\n",
    "tfidf_jobdesc_nodup = pd.DataFrame(tfidf_vecs_nodup.todense(), columns=tfidf_nodup.get_feature_names())"
   ]
  },
  {
   "cell_type": "code",
   "execution_count": 322,
   "metadata": {
    "collapsed": false
   },
   "outputs": [
    {
     "data": {
      "text/plain": [
       "[2793]"
      ]
     },
     "execution_count": 322,
     "metadata": {},
     "output_type": "execute_result"
    }
   ],
   "source": [
    "dropped_docs_nodup = pickle.load(open(\"dropped_docs.p\", \"rb\"))\n",
    "dropped_docs_nodup"
   ]
  },
  {
   "cell_type": "code",
   "execution_count": 323,
   "metadata": {
    "collapsed": true
   },
   "outputs": [],
   "source": [
    "dropped_posts_nodup= docs_no_wiki.reset_index(drop=True).drop(dropped_docs_nodup)\n",
    "full_posts_nodup= posts_no_wiki.reset_index(drop=True).drop(dropped_docs_nodup)"
   ]
  },
  {
   "cell_type": "code",
   "execution_count": 242,
   "metadata": {
    "collapsed": true
   },
   "outputs": [],
   "source": [
    "dropped_posts_nodup= docs_dup_drop.reset_index(drop=True).drop(dropped_docs_nodup)\n",
    "full_posts_nodup= posts.reset_index(drop=True).drop(dropped_docs_nodup)"
   ]
  },
  {
   "cell_type": "code",
   "execution_count": 324,
   "metadata": {
    "collapsed": false
   },
   "outputs": [
    {
     "data": {
      "text/plain": [
       "(34132, 8)"
      ]
     },
     "execution_count": 324,
     "metadata": {},
     "output_type": "execute_result"
    }
   ],
   "source": [
    "full_posts_nodup.shape"
   ]
  },
  {
   "cell_type": "code",
   "execution_count": 325,
   "metadata": {
    "collapsed": false
   },
   "outputs": [
    {
     "data": {
      "text/plain": [
       "(34132,)"
      ]
     },
     "execution_count": 325,
     "metadata": {},
     "output_type": "execute_result"
    }
   ],
   "source": [
    "dropped_posts_nodup.shape"
   ]
  },
  {
   "cell_type": "code",
   "execution_count": 326,
   "metadata": {
    "collapsed": true
   },
   "outputs": [],
   "source": [
    "default_stopwords = set(nltk.corpus.stopwords.words('english'))\n"
   ]
  },
  {
   "cell_type": "code",
   "execution_count": 327,
   "metadata": {
    "collapsed": false
   },
   "outputs": [
    {
     "data": {
      "text/plain": [
       "['tfidf_notitles.pkl']"
      ]
     },
     "execution_count": 327,
     "metadata": {},
     "output_type": "execute_result"
    }
   ],
   "source": [
    "from sklearn.externals import joblib\n",
    "joblib.dump(tfidf_nodup, 'tfidf_notitles_vectorizer.pkl' )\n",
    "joblib.dump(tfidf_jobdesc_nodup, 'tfidf_notitles.pkl' )"
   ]
  },
  {
   "cell_type": "code",
   "execution_count": 102,
   "metadata": {
    "collapsed": false
   },
   "outputs": [],
   "source": [
    "skills = ['pipette biology']\n",
    "tfidf_skills = tfidf_nodup.transform(skills)\n",
    "sim = cosine_similarity(tfidf_jobdesc_nodup, tfidf_skills)"
   ]
  },
  {
   "cell_type": "code",
   "execution_count": 103,
   "metadata": {
    "collapsed": false
   },
   "outputs": [],
   "source": [
    "text = ''\n",
    "for i in sim.argsort(axis=0)[-10:]:\n",
    "    #print(dropped_posts_nodup.iloc[i].values)\n",
    "    text += dropped_posts_nodup.iloc[i].values[0]\n",
    "    \n",
    "text = text.split()\n",
    "text = [word.lower() for word in text]\n",
    "text = [word for word in text if word not in default_stopwords]\n",
    "text = [word for word in text if len(word) > 1]\n"
   ]
  },
  {
   "cell_type": "code",
   "execution_count": 104,
   "metadata": {
    "collapsed": false
   },
   "outputs": [
    {
     "data": {
      "text/plain": [
       "[(u'biology', 47),\n",
       " (u'research', 41),\n",
       " (u'study', 32),\n",
       " (u'work', 23),\n",
       " (u'biological', 21),\n",
       " (u'biologists', 20),\n",
       " (u'biology,', 18),\n",
       " (u'experience', 15),\n",
       " (u'molecular', 15),\n",
       " (u'scientists', 14)]"
      ]
     },
     "execution_count": 104,
     "metadata": {},
     "output_type": "execute_result"
    }
   ],
   "source": [
    "freq= nltk.FreqDist(text)\n",
    "freq.most_common(10)"
   ]
  },
  {
   "cell_type": "code",
   "execution_count": 105,
   "metadata": {
    "collapsed": true
   },
   "outputs": [],
   "source": [
    "posting_stop_words = set(['experience', 'job', 'work', 'position', 'opportunity', 'perform'\n",
    "                          'looking', 'ability', 'organization', 'good', 'skills', 'years',\n",
    "                          'benefits', 'company', 'working', 'worked', 'team', 'able', 'must', 'requirements'])"
   ]
  },
  {
   "cell_type": "code",
   "execution_count": 106,
   "metadata": {
    "collapsed": false
   },
   "outputs": [
    {
     "data": {
      "image/png": "[encoded data removed]",
      "text/plain": [
       "<matplotlib.figure.Figure at 0x113d34410>"
      ]
     },
     "metadata": {},
     "output_type": "display_data"
    }
   ],
   "source": [
    "wordcloud = WordCloud(max_font_size=40, max_words=100, stopwords=posting_stop_words, background_color='white').generate(' '.join(text))\n",
    "plt.figure()\n",
    "plt.imshow(wordcloud)\n",
    "plt.axis(\"off\")\n",
    "plt.show()"
   ]
  },
  {
   "cell_type": "code",
   "execution_count": 328,
   "metadata": {
    "collapsed": false
   },
   "outputs": [],
   "source": [
    "lsa = TruncatedSVD(20, algorithm = 'arpack')\n",
    "dtm_lsa = lsa.fit_transform(tfidf_jobdesc_nodup)\n",
    "dtm_lsa = Normalizer(copy=False).fit_transform(dtm_lsa)"
   ]
  },
  {
   "cell_type": "code",
   "execution_count": 329,
   "metadata": {
    "collapsed": false
   },
   "outputs": [
    {
     "data": {
      "text/plain": [
       "['lsa_mat.pkl']"
      ]
     },
     "execution_count": 329,
     "metadata": {},
     "output_type": "execute_result"
    }
   ],
   "source": [
    "joblib.dump(lsa, 'lsa_vectorizer.pkl' )\n",
    "joblib.dump(dtm_lsa, 'lsa_mat.pkl' )"
   ]
  },
  {
   "cell_type": "code",
   "execution_count": 354,
   "metadata": {
    "collapsed": false
   },
   "outputs": [
    {
     "data": {
      "text/plain": [
       "<matplotlib.text.Text at 0x3ccc150d0>"
      ]
     },
     "execution_count": 354,
     "metadata": {},
     "output_type": "execute_result"
    },
    {
     "data": {
      "image/png": "[encoded data removed]",
      "text/plain": [
       "<matplotlib.figure.Figure at 0x3cf2448d0>"
      ]
     },
     "metadata": {},
     "output_type": "display_data"
    }
   ],
   "source": [
    "plt.plot(range(len(lsa.explained_variance_ratio_)), lsa.explained_variance_ratio_, '.')\n",
    "plt.xlabel('Topic Number')\n",
    "plt.ylabel('Explained Var Ratio')"
   ]
  },
  {
   "cell_type": "code",
   "execution_count": 41,
   "metadata": {
    "collapsed": true
   },
   "outputs": [
    {
     "data": {
      "text/plain": [
       "u'\\nJob Description\\n\\nRef ID: 00900-9500419340Classification: Account Executive/Staffing ManagerCompensation: $85,000.00 to $150,000.00 per year Join one of the World\\'s Most Admired Companies    Job description:   Robert Half Technology, a division of Robert Half International (RHI), is a leading provider of IT professionals on a project and full-time basis. We specialize in initiatives ranging from web development and systems integration to network security and technical support. We are looking for an Account Executive with information technology industry experience to join our team. If you are a self-confident, motivated person with a strong work ethic and excellent communication skills \\x96 and you enjoy a fast-paced team-driven environment \\x96 we invite you to apply below.   Watch this video to learn more about working at Robert Half Technology: www.roberthalf.com/why-robert-half    As an Account Executive your responsibilities will include:    Developing and growing a client base    - Use your proven business development and/or technical background to develop and grow your own client base by marketing our services for contract and contract-to-hire staffing solutions.   - Make telephone calls and conduct in-person meetings with key managers to senior-level executives for the purpose of promoting our services to prospective clients and building on existing client relationships.   - Responsible for solidifying Robert Half Technology\\'s presence in the local marketplace through consistent participation in networking organizations and events.   - Contact supervisors to determine candidate\\'s viability to support and resolve specific client needs.   - Strategize with teammates to accomplish weekly business growth goals.    Top 5 Reasons to work for Robert Half Technology:     EXCITING CAREER OPPORTUNITIES WITH THE INDUSTRY LEADER \\x96 Our more than 60-year history of success and strong client relationships provide a level of stability few companies can match.   PERFORMANCE = REWARD \\x96 We offer exceptional earning potential and a competitive benefits package, including a base salary and monthly performance-based bonuses, as well as group health, life and disability insurance, and a 401(k) or deferred compensation plan.   UPWARD MOBILITY \\x96 With more than 100 locations worldwide, we provide excellent career advancement potential, both locally and beyond.   TOOLS FOR SUCCESS \\x96 We provide world-class training, client relationship management tools and advanced technology to help you succeed as an Account Executive.   RESPECTED WORLDWIDE \\x96 In 2016, our company once again was named to FORTUNE\\xae magazine\\'s list of \"World\\'s Most Admired Companies.\" (March 1, 2016).  \\n\\nJob Requirements\\n\\nSuccessful candidates will have excellent business development, recruiting, negotiation, communication and problem-solving skills in a fast-paced business environment. 3+ years of experience working in the IT industry is preferred. A combination of account development and account management skills are required. CIS/MIS degree is preferred.  If you have a background in technology and are looking for an exciting new career with exceptional earning potential, apply today! If interested, email your latest resume to [Click Here to Email Your Resum\\xe9] The Creative Group, a Robert Half company, specializes in placing highly skilled marketing, advertising, design, interactive and public relations professionals on a project and full-time basis with advertising and public relations agencies, Fortune 500 companies and small to mid-sized firms. We are faster at finding you work because of our strong network. We reach out to over 12,000 creative and marketing hiring managers each week. In addition to our free job search services, we provide our candidates with access to online skills training and a competitive benefits and compensation package.Our parent company, Robert Half, once again was named to FORTUNE\\xae magazine\\'s list of \"World\\'s Most Admired Companies\" and was the highest-ranked staffing firm. (March 1, 2016)Apply for this job now or contact our branch office at 1.888.846.1668 to learn more about this position.All applicants applying for U.S. job openings must be authorized to work in the United States. All applicants applying for Canadian job openings must be authorized to work in Canada.Equal Opportunity Employer M/F/Disability/VetBy clicking \\'Apply Now\\' you are agreeing to Robert Half Terms of Use.\\n\\n'"
      ]
     },
     "execution_count": 41,
     "metadata": {},
     "output_type": "execute_result"
    }
   ],
   "source": [
    "dropped_posts_nodup.iloc[15966]"
   ]
  },
  {
   "cell_type": "code",
   "execution_count": 351,
   "metadata": {
    "collapsed": false,
    "scrolled": false
   },
   "outputs": [],
   "source": [
    "words = np.array(tfidf_nodup.get_feature_names())\n",
    "set_array = []\n",
    "for row in lsa.components_:\n",
    "    top_words_indices = np.argsort(row)[-100:] \n",
    "    set_array.append(set(words[top_words_indices]))\n",
    "\n",
    "    "
   ]
  },
  {
   "cell_type": "code",
   "execution_count": 352,
   "metadata": {
    "collapsed": false
   },
   "outputs": [],
   "source": [
    "key_words = []\n",
    "for job_set in set_array:\n",
    "    temp_job = job_set\n",
    "    for job in set_array:\n",
    "        if job == job_set:\n",
    "            pass\n",
    "        else:\n",
    "            temp_job = temp_job.difference(job)\n",
    "    key_words.append(temp_job)\n",
    "            \n",
    "        "
   ]
  },
  {
   "cell_type": "code",
   "execution_count": 353,
   "metadata": {
    "collapsed": false
   },
   "outputs": [
    {
     "data": {
      "text/plain": [
       "[{u'assist', u'based', u'field', u'include', u'minimum', u'plan', u'provides'},\n",
       " {u'acquisition',\n",
       "  u'campaign',\n",
       "  u'consulting',\n",
       "  u'create',\n",
       "  u'developing',\n",
       "  u'events',\n",
       "  u'existing',\n",
       "  u'fun',\n",
       "  u'inside',\n",
       "  u'outside',\n",
       "  u'pr',\n",
       "  u'selling',\n",
       "  u'success',\n",
       "  u'teams'},\n",
       " {u'accredited',\n",
       "  u'advancement',\n",
       "  u'current',\n",
       "  u'graduate',\n",
       "  u'human',\n",
       "  u'licensure',\n",
       "  u'living',\n",
       "  u'medication',\n",
       "  u'outpatient'},\n",
       " {u'basic',\n",
       "  u'cdl',\n",
       "  u'check',\n",
       "  u'clean',\n",
       "  u'cleaning',\n",
       "  u'conditions',\n",
       "  u'daily',\n",
       "  u'diploma',\n",
       "  u'forklift',\n",
       "  u'ged',\n",
       "  u'hand',\n",
       "  u'heavy',\n",
       "  u'inspection',\n",
       "  u'instructions',\n",
       "  u'lbs',\n",
       "  u'lift',\n",
       "  u'machinery',\n",
       "  u'operate',\n",
       "  u'operation',\n",
       "  u'pass',\n",
       "  u'performing',\n",
       "  u'plumbing',\n",
       "  u'pounds',\n",
       "  u'proper',\n",
       "  u'read',\n",
       "  u'safe',\n",
       "  u'stand',\n",
       "  u'truck',\n",
       "  u'trucks',\n",
       "  u'valid'},\n",
       " {u'finding',\n",
       "  u'interactive',\n",
       "  u'interested',\n",
       "  u'mid',\n",
       "  u'online',\n",
       "  u'placing',\n",
       "  u'send',\n",
       "  u'skilled',\n",
       "  u'week'},\n",
       " {u'approach',\n",
       "  u'careers',\n",
       "  u'consider',\n",
       "  u'dedicated',\n",
       "  u'deep',\n",
       "  u'genetic',\n",
       "  u'having',\n",
       "  u'headquartered',\n",
       "  u'interviewing',\n",
       "  u'non',\n",
       "  u'operates',\n",
       "  u'partner',\n",
       "  u'point',\n",
       "  u'posting',\n",
       "  u'provider',\n",
       "  u'recruiting',\n",
       "  u'request',\n",
       "  u'rewarding',\n",
       "  u'serving',\n",
       "  u'teksystems'},\n",
       " {u'architectural',\n",
       "  u'assemblies',\n",
       "  u'assembly',\n",
       "  u'autocad',\n",
       "  u'cad',\n",
       "  u'civil',\n",
       "  u'components',\n",
       "  u'designing',\n",
       "  u'drafting',\n",
       "  u'drawings',\n",
       "  u'engineers',\n",
       "  u'fabrication',\n",
       "  u'inventor',\n",
       "  u'layout',\n",
       "  u'power',\n",
       "  u'revit',\n",
       "  u'solidworks',\n",
       "  u'specifications',\n",
       "  u'structural'},\n",
       " {u'effective',\n",
       "  u'execution',\n",
       "  u'external',\n",
       "  u'manages',\n",
       "  u'meetings',\n",
       "  u'objectives',\n",
       "  u'oversee',\n",
       "  u'personnel',\n",
       "  u'plans',\n",
       "  u'regulations',\n",
       "  u'regulatory',\n",
       "  u'reporting',\n",
       "  u'review'},\n",
       " {u'blood', u'using'},\n",
       " {u'addition',\n",
       "  u'chief',\n",
       "  u'environmental',\n",
       "  u'leading',\n",
       "  u'officer',\n",
       "  u'professionals',\n",
       "  u'roberthalf'},\n",
       " {u'analytical',\n",
       "  u'analytics',\n",
       "  u'biology',\n",
       "  u'dental',\n",
       "  u'drug',\n",
       "  u'growing',\n",
       "  u'join',\n",
       "  u'life',\n",
       "  u'methods',\n",
       "  u'pharmaceutical',\n",
       "  u'qa',\n",
       "  u'qc',\n",
       "  u'raw',\n",
       "  u'research',\n",
       "  u'samples',\n",
       "  u'science',\n",
       "  u'scientist',\n",
       "  u'statistical',\n",
       "  u'vacation',\n",
       "  u'validation',\n",
       "  u'www'},\n",
       " {u'accurate',\n",
       "  u'accurately',\n",
       "  u'billing',\n",
       "  u'calls',\n",
       "  u'cash',\n",
       "  u'communicate',\n",
       "  u'credit',\n",
       "  u'css',\n",
       "  u'demonstrates',\n",
       "  u'documents',\n",
       "  u'handle',\n",
       "  u'illustrator',\n",
       "  u'merchandise',\n",
       "  u'order',\n",
       "  u'phone',\n",
       "  u'photoshop',\n",
       "  u'prepare',\n",
       "  u'telephone',\n",
       "  u'timely',\n",
       "  u'ui',\n",
       "  u'ux',\n",
       "  u'visual'},\n",
       " {u'continuous',\n",
       "  u'day',\n",
       "  u'die',\n",
       "  u'enterprise',\n",
       "  u'line',\n",
       "  u'long',\n",
       "  u'make',\n",
       "  u'room',\n",
       "  u'set',\n",
       "  u'shifts',\n",
       "  u'technologies',\n",
       "  u'term',\n",
       "  u'tool',\n",
       "  u'unit'},\n",
       " {u'abuse',\n",
       "  u'assessment',\n",
       "  u'basis',\n",
       "  u'behavior',\n",
       "  u'child',\n",
       "  u'crisis',\n",
       "  u'enable',\n",
       "  u'individual',\n",
       "  u'intervention',\n",
       "  u'lcsw',\n",
       "  u'meet',\n",
       "  u'psychology',\n",
       "  u'reach',\n",
       "  u'substance',\n",
       "  u'therapeutic',\n",
       "  u'youth'},\n",
       " {u'action',\n",
       "  u'active',\n",
       "  u'affirmative',\n",
       "  u'apex',\n",
       "  u'applicable',\n",
       "  u'cissp',\n",
       "  u'clearance',\n",
       "  u'federal',\n",
       "  u'firewalls',\n",
       "  u'government',\n",
       "  u'incident',\n",
       "  u'incidents',\n",
       "  u'linux',\n",
       "  u'monitoring',\n",
       "  u'news',\n",
       "  u'policy',\n",
       "  u'receive',\n",
       "  u'threat',\n",
       "  u'video',\n",
       "  u'vulnerability',\n",
       "  u'website'},\n",
       " {u'administration',\n",
       "  u'bartender',\n",
       "  u'bilingual',\n",
       "  u'candidate',\n",
       "  u'clerk',\n",
       "  u'following',\n",
       "  u'hour',\n",
       "  u'jobs',\n",
       "  u'location',\n",
       "  u'plus',\n",
       "  u'programming',\n",
       "  u'salary',\n",
       "  u'yearrequired'},\n",
       " {u'advisor',\n",
       "  u'advisors',\n",
       "  u'ascp',\n",
       "  u'ase',\n",
       "  u'auto',\n",
       "  u'chrysler',\n",
       "  u'dealership',\n",
       "  u'diagnose',\n",
       "  u'diagnostic',\n",
       "  u'diesel',\n",
       "  u'engine',\n",
       "  u'ford',\n",
       "  u'issues',\n",
       "  u'positive',\n",
       "  u'satisfaction',\n",
       "  u'specimen',\n",
       "  u'tech',\n",
       "  u'tire'},\n",
       " {u'american',\n",
       "  u'assistants',\n",
       "  u'jll',\n",
       "  u'orthopedic',\n",
       "  u'pain',\n",
       "  u'relationships',\n",
       "  u'risk'},\n",
       " {u'agile',\n",
       "  u'bar',\n",
       "  u'casual',\n",
       "  u'chef',\n",
       "  u'dining',\n",
       "  u'functional',\n",
       "  u'html',\n",
       "  u'java',\n",
       "  u'pta',\n",
       "  u'restaurants'},\n",
       " {u'advance',\n",
       "  u'advocate',\n",
       "  u'billion',\n",
       "  u'connecting',\n",
       "  u'connections',\n",
       "  u'directly',\n",
       "  u'diverse',\n",
       "  u'documentation',\n",
       "  u'employ',\n",
       "  u'employing',\n",
       "  u'females',\n",
       "  u'fuel',\n",
       "  u'globe',\n",
       "  u'intensive',\n",
       "  u'kellyservices',\n",
       "  u'learning',\n",
       "  u'let',\n",
       "  u'limited',\n",
       "  u'linkedin',\n",
       "  u'minorities',\n",
       "  u'nearly',\n",
       "  u'organizations',\n",
       "  u'pursued',\n",
       "  u'pursuits',\n",
       "  u'quest',\n",
       "  u'recruited',\n",
       "  u'remote',\n",
       "  u'specific',\n",
       "  u'suppliers',\n",
       "  u'thousands',\n",
       "  u'twitter',\n",
       "  u'variety',\n",
       "  u'workers'}]"
      ]
     },
     "execution_count": 353,
     "metadata": {},
     "output_type": "execute_result"
    }
   ],
   "source": [
    "key_words"
   ]
  },
  {
   "cell_type": "code",
   "execution_count": null,
   "metadata": {
    "collapsed": false
   },
   "outputs": [],
   "source": [
    "model = TSNE(n_components=2)\n",
    "np.set_printoptions(suppress=True)\n",
    "tsne_plot = model.fit_transform(dtm_lsa) "
   ]
  },
  {
   "cell_type": "code",
   "execution_count": 110,
   "metadata": {
    "collapsed": false
   },
   "outputs": [
    {
     "data": {
      "text/plain": [
       "(20, 7239)"
      ]
     },
     "execution_count": 110,
     "metadata": {},
     "output_type": "execute_result"
    }
   ],
   "source": [
    "lsa.components_.shape"
   ]
  },
  {
   "cell_type": "code",
   "execution_count": 343,
   "metadata": {
    "collapsed": true
   },
   "outputs": [],
   "source": [
    "def get_similar_docs(target_vec, corpus_vecs, num_res=5):\n",
    "    sim_scores = np.dot(target_vec, corpus_vecs.T)\n",
    "    print(sim_scores[0][np.argsort(-sim_scores)[0][:num_res]])\n",
    "    return np.argsort(-sim_scores)[0][:num_res]"
   ]
  },
  {
   "cell_type": "code",
   "execution_count": 344,
   "metadata": {
    "collapsed": false
   },
   "outputs": [],
   "source": [
    "target_vec = lsa.transform(tfidf_nodup.transform(['programming python java web']))"
   ]
  },
  {
   "cell_type": "code",
   "execution_count": 345,
   "metadata": {
    "collapsed": false
   },
   "outputs": [
    {
     "name": "stdout",
     "output_type": "stream",
     "text": [
      "[ 0.18852834  0.18781158  0.183779    0.18324291  0.18162018]\n"
     ]
    },
    {
     "data": {
      "text/plain": [
       "array([ 7600,  7594,  7535, 16127,  7638])"
      ]
     },
     "execution_count": 345,
     "metadata": {},
     "output_type": "execute_result"
    }
   ],
   "source": [
    "get_similar_docs(target_vec, dtm_lsa, num_res=5)"
   ]
  },
  {
   "cell_type": "code",
   "execution_count": 334,
   "metadata": {
    "collapsed": false
   },
   "outputs": [
    {
     "data": {
      "text/plain": [
       "u'\\nJob Description\\n\\n\\n2+ years developing web applications\\nStrong skills with\\n\\n\\nASP.NET\\nC#\\nKnockout\\nJavaScript\\njQuery\\nLINQ\\nSQL Server\\n\\n\\nJob Requirements\\n\\n\\nExperience with:\\n\\n\\nCSS\\nJSON\\nWeb API\\nREST\\nAJAX\\nWCF\\nMicrosoft Report Viewer\\n\\n\\n'"
      ]
     },
     "execution_count": 334,
     "metadata": {},
     "output_type": "execute_result"
    }
   ],
   "source": [
    "full_posts_nodup.iloc[7594]['desc']"
   ]
  },
  {
   "cell_type": "code",
   "execution_count": 335,
   "metadata": {
    "collapsed": true
   },
   "outputs": [],
   "source": [
    "full_posts_nodup['df_ind'] = full_posts_nodup.index"
   ]
  },
  {
   "cell_type": "code",
   "execution_count": 336,
   "metadata": {
    "collapsed": false
   },
   "outputs": [],
   "source": [
    "jsondf= full_posts_nodup.iloc[:,2:]"
   ]
  },
  {
   "cell_type": "code",
   "execution_count": 337,
   "metadata": {
    "collapsed": false
   },
   "outputs": [],
   "source": [
    "store = jsondf.to_json(orient='index', force_ascii=False)"
   ]
  },
  {
   "cell_type": "code",
   "execution_count": 251,
   "metadata": {
    "collapsed": false
   },
   "outputs": [],
   "source": [
    "from pymongo import MongoClient"
   ]
  },
  {
   "cell_type": "code",
   "execution_count": 252,
   "metadata": {
    "collapsed": true
   },
   "outputs": [],
   "source": [
    "client = MongoClient()\n",
    "db = client.jobdescriptiondb\n",
    "jobmongo = db.jobdesc"
   ]
  },
  {
   "cell_type": "code",
   "execution_count": 265,
   "metadata": {
    "collapsed": false
   },
   "outputs": [
    {
     "data": {
      "text/plain": [
       "'{\"0\":{\"company\":null,\"job_url\":null,\"title\":null,\"desc\":\"\\\\n\\\\n\\\\n\\\\n\\\\nThis article needs additional citations for verification. Please help improve this article by adding citations to reliable sources. Unsourced material may be challenged and removed. (April 2009) (Learn how and when to remove this template message)\\\\n\\\\n\\\\nA creative director is a position often found within the graphic design, film, music, fashion, advertising, media, or entertainment industries, but may be useful in other creative organizations such as web development and software development firms as well.\\\\nA creative director is a vital role in all of the arts and entertainment industries. In another sense, they can be seen as another element in any product development process. The creative director may also assume the role'"
      ]
     },
     "execution_count": 265,
     "metadata": {},
     "output_type": "execute_result"
    }
   ],
   "source": [
    "store[0:800]"
   ]
  },
  {
   "cell_type": "code",
   "execution_count": 339,
   "metadata": {
    "collapsed": false
   },
   "outputs": [
    {
     "name": "stderr",
     "output_type": "stream",
     "text": [
      "/Users/James/anaconda2/lib/python2.7/site-packages/ipykernel/__main__.py:3: DeprecationWarning: insert is deprecated. Use insert_one or insert_many instead.\n",
      "  app.launch_new_instance()\n"
     ]
    },
    {
     "data": {
      "text/plain": [
       "[ObjectId('58c1ab158a6818087a847799'),\n",
       " ObjectId('58c1ab158a6818087a84779a'),\n",
       " ObjectId('58c1ab158a6818087a84779b'),\n",
       " ObjectId('58c1ab158a6818087a84779c'),\n",
       " ObjectId('58c1ab158a6818087a84779d'),\n",
       " ObjectId('58c1ab158a6818087a84779e'),\n",
       " ObjectId('58c1ab158a6818087a84779f'),\n",
       " ObjectId('58c1ab158a6818087a8477a0'),\n",
       " ObjectId('58c1ab158a6818087a8477a1'),\n",
       " ObjectId('58c1ab158a6818087a8477a2'),\n",
       " ObjectId('58c1ab158a6818087a8477a3'),\n",
       " ObjectId('58c1ab158a6818087a8477a4'),\n",
       " ObjectId('58c1ab158a6818087a8477a5'),\n",
       " ObjectId('58c1ab158a6818087a8477a6'),\n",
       " ObjectId('58c1ab158a6818087a8477a7'),\n",
       " ObjectId('58c1ab158a6818087a8477a8'),\n",
       " ObjectId('58c1ab158a6818087a8477a9'),\n",
       " ObjectId('58c1ab158a6818087a8477aa'),\n",
       " ObjectId('58c1ab158a6818087a8477ab'),\n",
       " ObjectId('58c1ab158a6818087a8477ac'),\n",
       " ObjectId('58c1ab158a6818087a8477ad'),\n",
       " ObjectId('58c1ab158a6818087a8477ae'),\n",
       " ObjectId('58c1ab158a6818087a8477af'),\n",
       " ObjectId('58c1ab158a6818087a8477b0'),\n",
       " ObjectId('58c1ab158a6818087a8477b1'),\n",
       " ObjectId('58c1ab158a6818087a8477b2'),\n",
       " ObjectId('58c1ab158a6818087a8477b3'),\n",
       " ObjectId('58c1ab158a6818087a8477b4'),\n",
       " ObjectId('58c1ab158a6818087a8477b5'),\n",
       " ObjectId('58c1ab158a6818087a8477b6'),\n",
       " ObjectId('58c1ab158a6818087a8477b7'),\n",
       " ObjectId('58c1ab158a6818087a8477b8'),\n",
       " ObjectId('58c1ab158a6818087a8477b9'),\n",
       " ObjectId('58c1ab158a6818087a8477ba'),\n",
       " ObjectId('58c1ab158a6818087a8477bb'),\n",
       " ObjectId('58c1ab158a6818087a8477bc'),\n",
       " ObjectId('58c1ab158a6818087a8477bd'),\n",
       " ObjectId('58c1ab158a6818087a8477be'),\n",
       " ObjectId('58c1ab158a6818087a8477bf'),\n",
       " ObjectId('58c1ab158a6818087a8477c0'),\n",
       " ObjectId('58c1ab158a6818087a8477c1'),\n",
       " ObjectId('58c1ab158a6818087a8477c2'),\n",
       " ObjectId('58c1ab158a6818087a8477c3'),\n",
       " ObjectId('58c1ab158a6818087a8477c4'),\n",
       " ObjectId('58c1ab158a6818087a8477c5'),\n",
       " ObjectId('58c1ab158a6818087a8477c6'),\n",
       " ObjectId('58c1ab158a6818087a8477c7'),\n",
       " ObjectId('58c1ab158a6818087a8477c8'),\n",
       " ObjectId('58c1ab158a6818087a8477c9'),\n",
       " ObjectId('58c1ab158a6818087a8477ca'),\n",
       " ObjectId('58c1ab158a6818087a8477cb'),\n",
       " ObjectId('58c1ab158a6818087a8477cc'),\n",
       " ObjectId('58c1ab158a6818087a8477cd'),\n",
       " ObjectId('58c1ab158a6818087a8477ce'),\n",
       " ObjectId('58c1ab158a6818087a8477cf'),\n",
       " ObjectId('58c1ab158a6818087a8477d0'),\n",
       " ObjectId('58c1ab158a6818087a8477d1'),\n",
       " ObjectId('58c1ab158a6818087a8477d2'),\n",
       " ObjectId('58c1ab158a6818087a8477d3'),\n",
       " ObjectId('58c1ab158a6818087a8477d4'),\n",
       " ObjectId('58c1ab158a6818087a8477d5'),\n",
       " ObjectId('58c1ab158a6818087a8477d6'),\n",
       " ObjectId('58c1ab158a6818087a8477d7'),\n",
       " ObjectId('58c1ab158a6818087a8477d8'),\n",
       " ObjectId('58c1ab158a6818087a8477d9'),\n",
       " ObjectId('58c1ab158a6818087a8477da'),\n",
       " ObjectId('58c1ab158a6818087a8477db'),\n",
       " ObjectId('58c1ab158a6818087a8477dc'),\n",
       " ObjectId('58c1ab158a6818087a8477dd'),\n",
       " ObjectId('58c1ab158a6818087a8477de'),\n",
       " ObjectId('58c1ab158a6818087a8477df'),\n",
       " ObjectId('58c1ab158a6818087a8477e0'),\n",
       " ObjectId('58c1ab158a6818087a8477e1'),\n",
       " ObjectId('58c1ab158a6818087a8477e2'),\n",
       " ObjectId('58c1ab158a6818087a8477e3'),\n",
       " ObjectId('58c1ab158a6818087a8477e4'),\n",
       " ObjectId('58c1ab158a6818087a8477e5'),\n",
       " ObjectId('58c1ab158a6818087a8477e6'),\n",
       " ObjectId('58c1ab158a6818087a8477e7'),\n",
       " ObjectId('58c1ab158a6818087a8477e8'),\n",
       " ObjectId('58c1ab158a6818087a8477e9'),\n",
       " ObjectId('58c1ab158a6818087a8477ea'),\n",
       " ObjectId('58c1ab158a6818087a8477eb'),\n",
       " ObjectId('58c1ab158a6818087a8477ec'),\n",
       " ObjectId('58c1ab158a6818087a8477ed'),\n",
       " ObjectId('58c1ab158a6818087a8477ee'),\n",
       " ObjectId('58c1ab158a6818087a8477ef'),\n",
       " ObjectId('58c1ab158a6818087a8477f0'),\n",
       " ObjectId('58c1ab158a6818087a8477f1'),\n",
       " ObjectId('58c1ab158a6818087a8477f2'),\n",
       " ObjectId('58c1ab158a6818087a8477f3'),\n",
       " ObjectId('58c1ab158a6818087a8477f4'),\n",
       " ObjectId('58c1ab158a6818087a8477f5'),\n",
       " ObjectId('58c1ab158a6818087a8477f6'),\n",
       " ObjectId('58c1ab158a6818087a8477f7'),\n",
       " ObjectId('58c1ab158a6818087a8477f8'),\n",
       " ObjectId('58c1ab158a6818087a8477f9'),\n",
       " ObjectId('58c1ab158a6818087a8477fa'),\n",
       " ObjectId('58c1ab158a6818087a8477fb'),\n",
       " ObjectId('58c1ab158a6818087a8477fc'),\n",
       " ObjectId('58c1ab158a6818087a8477fd'),\n",
       " ObjectId('58c1ab158a6818087a8477fe'),\n",
       " ObjectId('58c1ab158a6818087a8477ff'),\n",
       " ObjectId('58c1ab158a6818087a847800'),\n",
       " ObjectId('58c1ab158a6818087a847801'),\n",
       " ObjectId('58c1ab158a6818087a847802'),\n",
       " ObjectId('58c1ab158a6818087a847803'),\n",
       " ObjectId('58c1ab158a6818087a847804'),\n",
       " ObjectId('58c1ab158a6818087a847805'),\n",
       " ObjectId('58c1ab158a6818087a847806'),\n",
       " ObjectId('58c1ab158a6818087a847807'),\n",
       " ObjectId('58c1ab158a6818087a847808'),\n",
       " ObjectId('58c1ab158a6818087a847809'),\n",
       " ObjectId('58c1ab158a6818087a84780a'),\n",
       " ObjectId('58c1ab158a6818087a84780b'),\n",
       " ObjectId('58c1ab158a6818087a84780c'),\n",
       " ObjectId('58c1ab158a6818087a84780d'),\n",
       " ObjectId('58c1ab158a6818087a84780e'),\n",
       " ObjectId('58c1ab158a6818087a84780f'),\n",
       " ObjectId('58c1ab158a6818087a847810'),\n",
       " ObjectId('58c1ab158a6818087a847811'),\n",
       " ObjectId('58c1ab158a6818087a847812'),\n",
       " ObjectId('58c1ab158a6818087a847813'),\n",
       " ObjectId('58c1ab158a6818087a847814'),\n",
       " ObjectId('58c1ab158a6818087a847815'),\n",
       " ObjectId('58c1ab158a6818087a847816'),\n",
       " ObjectId('58c1ab158a6818087a847817'),\n",
       " ObjectId('58c1ab158a6818087a847818'),\n",
       " ObjectId('58c1ab158a6818087a847819'),\n",
       " ObjectId('58c1ab158a6818087a84781a'),\n",
       " ObjectId('58c1ab158a6818087a84781b'),\n",
       " ObjectId('58c1ab158a6818087a84781c'),\n",
       " ObjectId('58c1ab158a6818087a84781d'),\n",
       " ObjectId('58c1ab158a6818087a84781e'),\n",
       " ObjectId('58c1ab158a6818087a84781f'),\n",
       " ObjectId('58c1ab158a6818087a847820'),\n",
       " ObjectId('58c1ab158a6818087a847821'),\n",
       " ObjectId('58c1ab158a6818087a847822'),\n",
       " ObjectId('58c1ab158a6818087a847823'),\n",
       " ObjectId('58c1ab158a6818087a847824'),\n",
       " ObjectId('58c1ab158a6818087a847825'),\n",
       " ObjectId('58c1ab158a6818087a847826'),\n",
       " ObjectId('58c1ab158a6818087a847827'),\n",
       " ObjectId('58c1ab158a6818087a847828'),\n",
       " ObjectId('58c1ab158a6818087a847829'),\n",
       " ObjectId('58c1ab158a6818087a84782a'),\n",
       " ObjectId('58c1ab158a6818087a84782b'),\n",
       " ObjectId('58c1ab158a6818087a84782c'),\n",
       " ObjectId('58c1ab158a6818087a84782d'),\n",
       " ObjectId('58c1ab158a6818087a84782e'),\n",
       " ObjectId('58c1ab158a6818087a84782f'),\n",
       " ObjectId('58c1ab158a6818087a847830'),\n",
       " ObjectId('58c1ab158a6818087a847831'),\n",
       " ObjectId('58c1ab158a6818087a847832'),\n",
       " ObjectId('58c1ab158a6818087a847833'),\n",
       " ObjectId('58c1ab158a6818087a847834'),\n",
       " ObjectId('58c1ab158a6818087a847835'),\n",
       " ObjectId('58c1ab158a6818087a847836'),\n",
       " ObjectId('58c1ab158a6818087a847837'),\n",
       " ObjectId('58c1ab158a6818087a847838'),\n",
       " ObjectId('58c1ab158a6818087a847839'),\n",
       " ObjectId('58c1ab158a6818087a84783a'),\n",
       " ObjectId('58c1ab158a6818087a84783b'),\n",
       " ObjectId('58c1ab158a6818087a84783c'),\n",
       " ObjectId('58c1ab158a6818087a84783d'),\n",
       " ObjectId('58c1ab158a6818087a84783e'),\n",
       " ObjectId('58c1ab158a6818087a84783f'),\n",
       " ObjectId('58c1ab158a6818087a847840'),\n",
       " ObjectId('58c1ab158a6818087a847841'),\n",
       " ObjectId('58c1ab158a6818087a847842'),\n",
       " ObjectId('58c1ab158a6818087a847843'),\n",
       " ObjectId('58c1ab158a6818087a847844'),\n",
       " ObjectId('58c1ab158a6818087a847845'),\n",
       " ObjectId('58c1ab158a6818087a847846'),\n",
       " ObjectId('58c1ab158a6818087a847847'),\n",
       " ObjectId('58c1ab158a6818087a847848'),\n",
       " ObjectId('58c1ab158a6818087a847849'),\n",
       " ObjectId('58c1ab158a6818087a84784a'),\n",
       " ObjectId('58c1ab158a6818087a84784b'),\n",
       " ObjectId('58c1ab158a6818087a84784c'),\n",
       " ObjectId('58c1ab158a6818087a84784d'),\n",
       " ObjectId('58c1ab158a6818087a84784e'),\n",
       " ObjectId('58c1ab158a6818087a84784f'),\n",
       " ObjectId('58c1ab158a6818087a847850'),\n",
       " ObjectId('58c1ab158a6818087a847851'),\n",
       " ObjectId('58c1ab158a6818087a847852'),\n",
       " ObjectId('58c1ab158a6818087a847853'),\n",
       " ObjectId('58c1ab158a6818087a847854'),\n",
       " ObjectId('58c1ab158a6818087a847855'),\n",
       " ObjectId('58c1ab158a6818087a847856'),\n",
       " ObjectId('58c1ab158a6818087a847857'),\n",
       " ObjectId('58c1ab158a6818087a847858'),\n",
       " ObjectId('58c1ab158a6818087a847859'),\n",
       " ObjectId('58c1ab158a6818087a84785a'),\n",
       " ObjectId('58c1ab158a6818087a84785b'),\n",
       " ObjectId('58c1ab158a6818087a84785c'),\n",
       " ObjectId('58c1ab158a6818087a84785d'),\n",
       " ObjectId('58c1ab158a6818087a84785e'),\n",
       " ObjectId('58c1ab158a6818087a84785f'),\n",
       " ObjectId('58c1ab158a6818087a847860'),\n",
       " ObjectId('58c1ab158a6818087a847861'),\n",
       " ObjectId('58c1ab158a6818087a847862'),\n",
       " ObjectId('58c1ab158a6818087a847863'),\n",
       " ObjectId('58c1ab158a6818087a847864'),\n",
       " ObjectId('58c1ab158a6818087a847865'),\n",
       " ObjectId('58c1ab158a6818087a847866'),\n",
       " ObjectId('58c1ab158a6818087a847867'),\n",
       " ObjectId('58c1ab158a6818087a847868'),\n",
       " ObjectId('58c1ab158a6818087a847869'),\n",
       " ObjectId('58c1ab158a6818087a84786a'),\n",
       " ObjectId('58c1ab158a6818087a84786b'),\n",
       " ObjectId('58c1ab158a6818087a84786c'),\n",
       " ObjectId('58c1ab158a6818087a84786d'),\n",
       " ObjectId('58c1ab158a6818087a84786e'),\n",
       " ObjectId('58c1ab158a6818087a84786f'),\n",
       " ObjectId('58c1ab158a6818087a847870'),\n",
       " ObjectId('58c1ab158a6818087a847871'),\n",
       " ObjectId('58c1ab158a6818087a847872'),\n",
       " ObjectId('58c1ab158a6818087a847873'),\n",
       " ObjectId('58c1ab158a6818087a847874'),\n",
       " ObjectId('58c1ab158a6818087a847875'),\n",
       " ObjectId('58c1ab158a6818087a847876'),\n",
       " ObjectId('58c1ab158a6818087a847877'),\n",
       " ObjectId('58c1ab158a6818087a847878'),\n",
       " ObjectId('58c1ab158a6818087a847879'),\n",
       " ObjectId('58c1ab158a6818087a84787a'),\n",
       " ObjectId('58c1ab158a6818087a84787b'),\n",
       " ObjectId('58c1ab158a6818087a84787c'),\n",
       " ObjectId('58c1ab158a6818087a84787d'),\n",
       " ObjectId('58c1ab158a6818087a84787e'),\n",
       " ObjectId('58c1ab158a6818087a84787f'),\n",
       " ObjectId('58c1ab158a6818087a847880'),\n",
       " ObjectId('58c1ab158a6818087a847881'),\n",
       " ObjectId('58c1ab158a6818087a847882'),\n",
       " ObjectId('58c1ab158a6818087a847883'),\n",
       " ObjectId('58c1ab158a6818087a847884'),\n",
       " ObjectId('58c1ab158a6818087a847885'),\n",
       " ObjectId('58c1ab158a6818087a847886'),\n",
       " ObjectId('58c1ab158a6818087a847887'),\n",
       " ObjectId('58c1ab158a6818087a847888'),\n",
       " ObjectId('58c1ab158a6818087a847889'),\n",
       " ObjectId('58c1ab158a6818087a84788a'),\n",
       " ObjectId('58c1ab158a6818087a84788b'),\n",
       " ObjectId('58c1ab158a6818087a84788c'),\n",
       " ObjectId('58c1ab158a6818087a84788d'),\n",
       " ObjectId('58c1ab158a6818087a84788e'),\n",
       " ObjectId('58c1ab158a6818087a84788f'),\n",
       " ObjectId('58c1ab158a6818087a847890'),\n",
       " ObjectId('58c1ab158a6818087a847891'),\n",
       " ObjectId('58c1ab158a6818087a847892'),\n",
       " ObjectId('58c1ab158a6818087a847893'),\n",
       " ObjectId('58c1ab158a6818087a847894'),\n",
       " ObjectId('58c1ab158a6818087a847895'),\n",
       " ObjectId('58c1ab158a6818087a847896'),\n",
       " ObjectId('58c1ab158a6818087a847897'),\n",
       " ObjectId('58c1ab158a6818087a847898'),\n",
       " ObjectId('58c1ab158a6818087a847899'),\n",
       " ObjectId('58c1ab158a6818087a84789a'),\n",
       " ObjectId('58c1ab158a6818087a84789b'),\n",
       " ObjectId('58c1ab158a6818087a84789c'),\n",
       " ObjectId('58c1ab158a6818087a84789d'),\n",
       " ObjectId('58c1ab158a6818087a84789e'),\n",
       " ObjectId('58c1ab158a6818087a84789f'),\n",
       " ObjectId('58c1ab158a6818087a8478a0'),\n",
       " ObjectId('58c1ab158a6818087a8478a1'),\n",
       " ObjectId('58c1ab158a6818087a8478a2'),\n",
       " ObjectId('58c1ab158a6818087a8478a3'),\n",
       " ObjectId('58c1ab158a6818087a8478a4'),\n",
       " ObjectId('58c1ab158a6818087a8478a5'),\n",
       " ObjectId('58c1ab158a6818087a8478a6'),\n",
       " ObjectId('58c1ab158a6818087a8478a7'),\n",
       " ObjectId('58c1ab158a6818087a8478a8'),\n",
       " ObjectId('58c1ab158a6818087a8478a9'),\n",
       " ObjectId('58c1ab158a6818087a8478aa'),\n",
       " ObjectId('58c1ab158a6818087a8478ab'),\n",
       " ObjectId('58c1ab158a6818087a8478ac'),\n",
       " ObjectId('58c1ab158a6818087a8478ad'),\n",
       " ObjectId('58c1ab158a6818087a8478ae'),\n",
       " ObjectId('58c1ab158a6818087a8478af'),\n",
       " ObjectId('58c1ab158a6818087a8478b0'),\n",
       " ObjectId('58c1ab158a6818087a8478b1'),\n",
       " ObjectId('58c1ab158a6818087a8478b2'),\n",
       " ObjectId('58c1ab158a6818087a8478b3'),\n",
       " ObjectId('58c1ab158a6818087a8478b4'),\n",
       " ObjectId('58c1ab158a6818087a8478b5'),\n",
       " ObjectId('58c1ab158a6818087a8478b6'),\n",
       " ObjectId('58c1ab158a6818087a8478b7'),\n",
       " ObjectId('58c1ab158a6818087a8478b8'),\n",
       " ObjectId('58c1ab158a6818087a8478b9'),\n",
       " ObjectId('58c1ab158a6818087a8478ba'),\n",
       " ObjectId('58c1ab158a6818087a8478bb'),\n",
       " ObjectId('58c1ab158a6818087a8478bc'),\n",
       " ObjectId('58c1ab158a6818087a8478bd'),\n",
       " ObjectId('58c1ab158a6818087a8478be'),\n",
       " ObjectId('58c1ab158a6818087a8478bf'),\n",
       " ObjectId('58c1ab158a6818087a8478c0'),\n",
       " ObjectId('58c1ab158a6818087a8478c1'),\n",
       " ObjectId('58c1ab158a6818087a8478c2'),\n",
       " ObjectId('58c1ab158a6818087a8478c3'),\n",
       " ObjectId('58c1ab158a6818087a8478c4'),\n",
       " ObjectId('58c1ab158a6818087a8478c5'),\n",
       " ObjectId('58c1ab158a6818087a8478c6'),\n",
       " ObjectId('58c1ab158a6818087a8478c7'),\n",
       " ObjectId('58c1ab158a6818087a8478c8'),\n",
       " ObjectId('58c1ab158a6818087a8478c9'),\n",
       " ObjectId('58c1ab158a6818087a8478ca'),\n",
       " ObjectId('58c1ab158a6818087a8478cb'),\n",
       " ObjectId('58c1ab158a6818087a8478cc'),\n",
       " ObjectId('58c1ab158a6818087a8478cd'),\n",
       " ObjectId('58c1ab158a6818087a8478ce'),\n",
       " ObjectId('58c1ab158a6818087a8478cf'),\n",
       " ObjectId('58c1ab158a6818087a8478d0'),\n",
       " ObjectId('58c1ab158a6818087a8478d1'),\n",
       " ObjectId('58c1ab158a6818087a8478d2'),\n",
       " ObjectId('58c1ab158a6818087a8478d3'),\n",
       " ObjectId('58c1ab158a6818087a8478d4'),\n",
       " ObjectId('58c1ab158a6818087a8478d5'),\n",
       " ObjectId('58c1ab158a6818087a8478d6'),\n",
       " ObjectId('58c1ab158a6818087a8478d7'),\n",
       " ObjectId('58c1ab158a6818087a8478d8'),\n",
       " ObjectId('58c1ab158a6818087a8478d9'),\n",
       " ObjectId('58c1ab158a6818087a8478da'),\n",
       " ObjectId('58c1ab158a6818087a8478db'),\n",
       " ObjectId('58c1ab158a6818087a8478dc'),\n",
       " ObjectId('58c1ab158a6818087a8478dd'),\n",
       " ObjectId('58c1ab158a6818087a8478de'),\n",
       " ObjectId('58c1ab158a6818087a8478df'),\n",
       " ObjectId('58c1ab158a6818087a8478e0'),\n",
       " ObjectId('58c1ab158a6818087a8478e1'),\n",
       " ObjectId('58c1ab158a6818087a8478e2'),\n",
       " ObjectId('58c1ab158a6818087a8478e3'),\n",
       " ObjectId('58c1ab158a6818087a8478e4'),\n",
       " ObjectId('58c1ab158a6818087a8478e5'),\n",
       " ObjectId('58c1ab158a6818087a8478e6'),\n",
       " ObjectId('58c1ab158a6818087a8478e7'),\n",
       " ObjectId('58c1ab158a6818087a8478e8'),\n",
       " ObjectId('58c1ab158a6818087a8478e9'),\n",
       " ObjectId('58c1ab158a6818087a8478ea'),\n",
       " ObjectId('58c1ab158a6818087a8478eb'),\n",
       " ObjectId('58c1ab158a6818087a8478ec'),\n",
       " ObjectId('58c1ab158a6818087a8478ed'),\n",
       " ObjectId('58c1ab158a6818087a8478ee'),\n",
       " ObjectId('58c1ab158a6818087a8478ef'),\n",
       " ObjectId('58c1ab158a6818087a8478f0'),\n",
       " ObjectId('58c1ab158a6818087a8478f1'),\n",
       " ObjectId('58c1ab158a6818087a8478f2'),\n",
       " ObjectId('58c1ab158a6818087a8478f3'),\n",
       " ObjectId('58c1ab158a6818087a8478f4'),\n",
       " ObjectId('58c1ab158a6818087a8478f5'),\n",
       " ObjectId('58c1ab158a6818087a8478f6'),\n",
       " ObjectId('58c1ab158a6818087a8478f7'),\n",
       " ObjectId('58c1ab158a6818087a8478f8'),\n",
       " ObjectId('58c1ab158a6818087a8478f9'),\n",
       " ObjectId('58c1ab158a6818087a8478fa'),\n",
       " ObjectId('58c1ab158a6818087a8478fb'),\n",
       " ObjectId('58c1ab158a6818087a8478fc'),\n",
       " ObjectId('58c1ab158a6818087a8478fd'),\n",
       " ObjectId('58c1ab158a6818087a8478fe'),\n",
       " ObjectId('58c1ab158a6818087a8478ff'),\n",
       " ObjectId('58c1ab158a6818087a847900'),\n",
       " ObjectId('58c1ab158a6818087a847901'),\n",
       " ObjectId('58c1ab158a6818087a847902'),\n",
       " ObjectId('58c1ab158a6818087a847903'),\n",
       " ObjectId('58c1ab158a6818087a847904'),\n",
       " ObjectId('58c1ab158a6818087a847905'),\n",
       " ObjectId('58c1ab158a6818087a847906'),\n",
       " ObjectId('58c1ab158a6818087a847907'),\n",
       " ObjectId('58c1ab158a6818087a847908'),\n",
       " ObjectId('58c1ab158a6818087a847909'),\n",
       " ObjectId('58c1ab158a6818087a84790a'),\n",
       " ObjectId('58c1ab158a6818087a84790b'),\n",
       " ObjectId('58c1ab158a6818087a84790c'),\n",
       " ObjectId('58c1ab158a6818087a84790d'),\n",
       " ObjectId('58c1ab158a6818087a84790e'),\n",
       " ObjectId('58c1ab158a6818087a84790f'),\n",
       " ObjectId('58c1ab158a6818087a847910'),\n",
       " ObjectId('58c1ab158a6818087a847911'),\n",
       " ObjectId('58c1ab158a6818087a847912'),\n",
       " ObjectId('58c1ab158a6818087a847913'),\n",
       " ObjectId('58c1ab158a6818087a847914'),\n",
       " ObjectId('58c1ab158a6818087a847915'),\n",
       " ObjectId('58c1ab158a6818087a847916'),\n",
       " ObjectId('58c1ab158a6818087a847917'),\n",
       " ObjectId('58c1ab158a6818087a847918'),\n",
       " ObjectId('58c1ab158a6818087a847919'),\n",
       " ObjectId('58c1ab158a6818087a84791a'),\n",
       " ObjectId('58c1ab158a6818087a84791b'),\n",
       " ObjectId('58c1ab158a6818087a84791c'),\n",
       " ObjectId('58c1ab158a6818087a84791d'),\n",
       " ObjectId('58c1ab158a6818087a84791e'),\n",
       " ObjectId('58c1ab158a6818087a84791f'),\n",
       " ObjectId('58c1ab158a6818087a847920'),\n",
       " ObjectId('58c1ab158a6818087a847921'),\n",
       " ObjectId('58c1ab158a6818087a847922'),\n",
       " ObjectId('58c1ab158a6818087a847923'),\n",
       " ObjectId('58c1ab158a6818087a847924'),\n",
       " ObjectId('58c1ab158a6818087a847925'),\n",
       " ObjectId('58c1ab158a6818087a847926'),\n",
       " ObjectId('58c1ab158a6818087a847927'),\n",
       " ObjectId('58c1ab158a6818087a847928'),\n",
       " ObjectId('58c1ab158a6818087a847929'),\n",
       " ObjectId('58c1ab158a6818087a84792a'),\n",
       " ObjectId('58c1ab158a6818087a84792b'),\n",
       " ObjectId('58c1ab158a6818087a84792c'),\n",
       " ObjectId('58c1ab158a6818087a84792d'),\n",
       " ObjectId('58c1ab158a6818087a84792e'),\n",
       " ObjectId('58c1ab158a6818087a84792f'),\n",
       " ObjectId('58c1ab158a6818087a847930'),\n",
       " ObjectId('58c1ab158a6818087a847931'),\n",
       " ObjectId('58c1ab158a6818087a847932'),\n",
       " ObjectId('58c1ab158a6818087a847933'),\n",
       " ObjectId('58c1ab158a6818087a847934'),\n",
       " ObjectId('58c1ab158a6818087a847935'),\n",
       " ObjectId('58c1ab158a6818087a847936'),\n",
       " ObjectId('58c1ab158a6818087a847937'),\n",
       " ObjectId('58c1ab158a6818087a847938'),\n",
       " ObjectId('58c1ab158a6818087a847939'),\n",
       " ObjectId('58c1ab158a6818087a84793a'),\n",
       " ObjectId('58c1ab158a6818087a84793b'),\n",
       " ObjectId('58c1ab158a6818087a84793c'),\n",
       " ObjectId('58c1ab158a6818087a84793d'),\n",
       " ObjectId('58c1ab158a6818087a84793e'),\n",
       " ObjectId('58c1ab158a6818087a84793f'),\n",
       " ObjectId('58c1ab158a6818087a847940'),\n",
       " ObjectId('58c1ab158a6818087a847941'),\n",
       " ObjectId('58c1ab158a6818087a847942'),\n",
       " ObjectId('58c1ab158a6818087a847943'),\n",
       " ObjectId('58c1ab158a6818087a847944'),\n",
       " ObjectId('58c1ab158a6818087a847945'),\n",
       " ObjectId('58c1ab158a6818087a847946'),\n",
       " ObjectId('58c1ab158a6818087a847947'),\n",
       " ObjectId('58c1ab158a6818087a847948'),\n",
       " ObjectId('58c1ab158a6818087a847949'),\n",
       " ObjectId('58c1ab158a6818087a84794a'),\n",
       " ObjectId('58c1ab158a6818087a84794b'),\n",
       " ObjectId('58c1ab158a6818087a84794c'),\n",
       " ObjectId('58c1ab158a6818087a84794d'),\n",
       " ObjectId('58c1ab158a6818087a84794e'),\n",
       " ObjectId('58c1ab158a6818087a84794f'),\n",
       " ObjectId('58c1ab158a6818087a847950'),\n",
       " ObjectId('58c1ab158a6818087a847951'),\n",
       " ObjectId('58c1ab158a6818087a847952'),\n",
       " ObjectId('58c1ab158a6818087a847953'),\n",
       " ObjectId('58c1ab158a6818087a847954'),\n",
       " ObjectId('58c1ab158a6818087a847955'),\n",
       " ObjectId('58c1ab158a6818087a847956'),\n",
       " ObjectId('58c1ab158a6818087a847957'),\n",
       " ObjectId('58c1ab158a6818087a847958'),\n",
       " ObjectId('58c1ab158a6818087a847959'),\n",
       " ObjectId('58c1ab158a6818087a84795a'),\n",
       " ObjectId('58c1ab158a6818087a84795b'),\n",
       " ObjectId('58c1ab158a6818087a84795c'),\n",
       " ObjectId('58c1ab158a6818087a84795d'),\n",
       " ObjectId('58c1ab158a6818087a84795e'),\n",
       " ObjectId('58c1ab158a6818087a84795f'),\n",
       " ObjectId('58c1ab158a6818087a847960'),\n",
       " ObjectId('58c1ab158a6818087a847961'),\n",
       " ObjectId('58c1ab158a6818087a847962'),\n",
       " ObjectId('58c1ab158a6818087a847963'),\n",
       " ObjectId('58c1ab158a6818087a847964'),\n",
       " ObjectId('58c1ab158a6818087a847965'),\n",
       " ObjectId('58c1ab158a6818087a847966'),\n",
       " ObjectId('58c1ab158a6818087a847967'),\n",
       " ObjectId('58c1ab158a6818087a847968'),\n",
       " ObjectId('58c1ab158a6818087a847969'),\n",
       " ObjectId('58c1ab158a6818087a84796a'),\n",
       " ObjectId('58c1ab158a6818087a84796b'),\n",
       " ObjectId('58c1ab158a6818087a84796c'),\n",
       " ObjectId('58c1ab158a6818087a84796d'),\n",
       " ObjectId('58c1ab158a6818087a84796e'),\n",
       " ObjectId('58c1ab158a6818087a84796f'),\n",
       " ObjectId('58c1ab158a6818087a847970'),\n",
       " ObjectId('58c1ab158a6818087a847971'),\n",
       " ObjectId('58c1ab158a6818087a847972'),\n",
       " ObjectId('58c1ab158a6818087a847973'),\n",
       " ObjectId('58c1ab158a6818087a847974'),\n",
       " ObjectId('58c1ab158a6818087a847975'),\n",
       " ObjectId('58c1ab158a6818087a847976'),\n",
       " ObjectId('58c1ab158a6818087a847977'),\n",
       " ObjectId('58c1ab158a6818087a847978'),\n",
       " ObjectId('58c1ab158a6818087a847979'),\n",
       " ObjectId('58c1ab158a6818087a84797a'),\n",
       " ObjectId('58c1ab158a6818087a84797b'),\n",
       " ObjectId('58c1ab158a6818087a84797c'),\n",
       " ObjectId('58c1ab158a6818087a84797d'),\n",
       " ObjectId('58c1ab158a6818087a84797e'),\n",
       " ObjectId('58c1ab158a6818087a84797f'),\n",
       " ObjectId('58c1ab158a6818087a847980'),\n",
       " ObjectId('58c1ab158a6818087a847981'),\n",
       " ObjectId('58c1ab158a6818087a847982'),\n",
       " ObjectId('58c1ab158a6818087a847983'),\n",
       " ObjectId('58c1ab158a6818087a847984'),\n",
       " ObjectId('58c1ab158a6818087a847985'),\n",
       " ObjectId('58c1ab158a6818087a847986'),\n",
       " ObjectId('58c1ab158a6818087a847987'),\n",
       " ObjectId('58c1ab158a6818087a847988'),\n",
       " ObjectId('58c1ab158a6818087a847989'),\n",
       " ObjectId('58c1ab158a6818087a84798a'),\n",
       " ObjectId('58c1ab158a6818087a84798b'),\n",
       " ObjectId('58c1ab158a6818087a84798c'),\n",
       " ObjectId('58c1ab158a6818087a84798d'),\n",
       " ObjectId('58c1ab158a6818087a84798e'),\n",
       " ObjectId('58c1ab158a6818087a84798f'),\n",
       " ObjectId('58c1ab158a6818087a847990'),\n",
       " ObjectId('58c1ab158a6818087a847991'),\n",
       " ObjectId('58c1ab158a6818087a847992'),\n",
       " ObjectId('58c1ab158a6818087a847993'),\n",
       " ObjectId('58c1ab158a6818087a847994'),\n",
       " ObjectId('58c1ab158a6818087a847995'),\n",
       " ObjectId('58c1ab158a6818087a847996'),\n",
       " ObjectId('58c1ab158a6818087a847997'),\n",
       " ObjectId('58c1ab158a6818087a847998'),\n",
       " ObjectId('58c1ab158a6818087a847999'),\n",
       " ObjectId('58c1ab158a6818087a84799a'),\n",
       " ObjectId('58c1ab158a6818087a84799b'),\n",
       " ObjectId('58c1ab158a6818087a84799c'),\n",
       " ObjectId('58c1ab158a6818087a84799d'),\n",
       " ObjectId('58c1ab158a6818087a84799e'),\n",
       " ObjectId('58c1ab158a6818087a84799f'),\n",
       " ObjectId('58c1ab158a6818087a8479a0'),\n",
       " ObjectId('58c1ab158a6818087a8479a1'),\n",
       " ObjectId('58c1ab158a6818087a8479a2'),\n",
       " ObjectId('58c1ab158a6818087a8479a3'),\n",
       " ObjectId('58c1ab158a6818087a8479a4'),\n",
       " ObjectId('58c1ab158a6818087a8479a5'),\n",
       " ObjectId('58c1ab158a6818087a8479a6'),\n",
       " ObjectId('58c1ab158a6818087a8479a7'),\n",
       " ObjectId('58c1ab158a6818087a8479a8'),\n",
       " ObjectId('58c1ab158a6818087a8479a9'),\n",
       " ObjectId('58c1ab158a6818087a8479aa'),\n",
       " ObjectId('58c1ab158a6818087a8479ab'),\n",
       " ObjectId('58c1ab158a6818087a8479ac'),\n",
       " ObjectId('58c1ab158a6818087a8479ad'),\n",
       " ObjectId('58c1ab158a6818087a8479ae'),\n",
       " ObjectId('58c1ab158a6818087a8479af'),\n",
       " ObjectId('58c1ab158a6818087a8479b0'),\n",
       " ObjectId('58c1ab158a6818087a8479b1'),\n",
       " ObjectId('58c1ab158a6818087a8479b2'),\n",
       " ObjectId('58c1ab158a6818087a8479b3'),\n",
       " ObjectId('58c1ab158a6818087a8479b4'),\n",
       " ObjectId('58c1ab158a6818087a8479b5'),\n",
       " ObjectId('58c1ab158a6818087a8479b6'),\n",
       " ObjectId('58c1ab158a6818087a8479b7'),\n",
       " ObjectId('58c1ab158a6818087a8479b8'),\n",
       " ObjectId('58c1ab158a6818087a8479b9'),\n",
       " ObjectId('58c1ab158a6818087a8479ba'),\n",
       " ObjectId('58c1ab158a6818087a8479bb'),\n",
       " ObjectId('58c1ab158a6818087a8479bc'),\n",
       " ObjectId('58c1ab158a6818087a8479bd'),\n",
       " ObjectId('58c1ab158a6818087a8479be'),\n",
       " ObjectId('58c1ab158a6818087a8479bf'),\n",
       " ObjectId('58c1ab158a6818087a8479c0'),\n",
       " ObjectId('58c1ab158a6818087a8479c1'),\n",
       " ObjectId('58c1ab158a6818087a8479c2'),\n",
       " ObjectId('58c1ab158a6818087a8479c3'),\n",
       " ObjectId('58c1ab158a6818087a8479c4'),\n",
       " ObjectId('58c1ab158a6818087a8479c5'),\n",
       " ObjectId('58c1ab158a6818087a8479c6'),\n",
       " ObjectId('58c1ab158a6818087a8479c7'),\n",
       " ObjectId('58c1ab158a6818087a8479c8'),\n",
       " ObjectId('58c1ab158a6818087a8479c9'),\n",
       " ObjectId('58c1ab158a6818087a8479ca'),\n",
       " ObjectId('58c1ab158a6818087a8479cb'),\n",
       " ObjectId('58c1ab158a6818087a8479cc'),\n",
       " ObjectId('58c1ab158a6818087a8479cd'),\n",
       " ObjectId('58c1ab158a6818087a8479ce'),\n",
       " ObjectId('58c1ab158a6818087a8479cf'),\n",
       " ObjectId('58c1ab158a6818087a8479d0'),\n",
       " ObjectId('58c1ab158a6818087a8479d1'),\n",
       " ObjectId('58c1ab158a6818087a8479d2'),\n",
       " ObjectId('58c1ab158a6818087a8479d3'),\n",
       " ObjectId('58c1ab158a6818087a8479d4'),\n",
       " ObjectId('58c1ab158a6818087a8479d5'),\n",
       " ObjectId('58c1ab158a6818087a8479d6'),\n",
       " ObjectId('58c1ab158a6818087a8479d7'),\n",
       " ObjectId('58c1ab158a6818087a8479d8'),\n",
       " ObjectId('58c1ab158a6818087a8479d9'),\n",
       " ObjectId('58c1ab158a6818087a8479da'),\n",
       " ObjectId('58c1ab158a6818087a8479db'),\n",
       " ObjectId('58c1ab158a6818087a8479dc'),\n",
       " ObjectId('58c1ab158a6818087a8479dd'),\n",
       " ObjectId('58c1ab158a6818087a8479de'),\n",
       " ObjectId('58c1ab158a6818087a8479df'),\n",
       " ObjectId('58c1ab158a6818087a8479e0'),\n",
       " ObjectId('58c1ab158a6818087a8479e1'),\n",
       " ObjectId('58c1ab158a6818087a8479e2'),\n",
       " ObjectId('58c1ab158a6818087a8479e3'),\n",
       " ObjectId('58c1ab158a6818087a8479e4'),\n",
       " ObjectId('58c1ab158a6818087a8479e5'),\n",
       " ObjectId('58c1ab158a6818087a8479e6'),\n",
       " ObjectId('58c1ab158a6818087a8479e7'),\n",
       " ObjectId('58c1ab158a6818087a8479e8'),\n",
       " ObjectId('58c1ab158a6818087a8479e9'),\n",
       " ObjectId('58c1ab158a6818087a8479ea'),\n",
       " ObjectId('58c1ab158a6818087a8479eb'),\n",
       " ObjectId('58c1ab158a6818087a8479ec'),\n",
       " ObjectId('58c1ab158a6818087a8479ed'),\n",
       " ObjectId('58c1ab158a6818087a8479ee'),\n",
       " ObjectId('58c1ab158a6818087a8479ef'),\n",
       " ObjectId('58c1ab158a6818087a8479f0'),\n",
       " ObjectId('58c1ab158a6818087a8479f1'),\n",
       " ObjectId('58c1ab158a6818087a8479f2'),\n",
       " ObjectId('58c1ab158a6818087a8479f3'),\n",
       " ObjectId('58c1ab158a6818087a8479f4'),\n",
       " ObjectId('58c1ab158a6818087a8479f5'),\n",
       " ObjectId('58c1ab158a6818087a8479f6'),\n",
       " ObjectId('58c1ab158a6818087a8479f7'),\n",
       " ObjectId('58c1ab158a6818087a8479f8'),\n",
       " ObjectId('58c1ab158a6818087a8479f9'),\n",
       " ObjectId('58c1ab158a6818087a8479fa'),\n",
       " ObjectId('58c1ab158a6818087a8479fb'),\n",
       " ObjectId('58c1ab158a6818087a8479fc'),\n",
       " ObjectId('58c1ab158a6818087a8479fd'),\n",
       " ObjectId('58c1ab158a6818087a8479fe'),\n",
       " ObjectId('58c1ab158a6818087a8479ff'),\n",
       " ObjectId('58c1ab158a6818087a847a00'),\n",
       " ObjectId('58c1ab158a6818087a847a01'),\n",
       " ObjectId('58c1ab158a6818087a847a02'),\n",
       " ObjectId('58c1ab158a6818087a847a03'),\n",
       " ObjectId('58c1ab158a6818087a847a04'),\n",
       " ObjectId('58c1ab158a6818087a847a05'),\n",
       " ObjectId('58c1ab158a6818087a847a06'),\n",
       " ObjectId('58c1ab158a6818087a847a07'),\n",
       " ObjectId('58c1ab158a6818087a847a08'),\n",
       " ObjectId('58c1ab158a6818087a847a09'),\n",
       " ObjectId('58c1ab158a6818087a847a0a'),\n",
       " ObjectId('58c1ab158a6818087a847a0b'),\n",
       " ObjectId('58c1ab158a6818087a847a0c'),\n",
       " ObjectId('58c1ab158a6818087a847a0d'),\n",
       " ObjectId('58c1ab158a6818087a847a0e'),\n",
       " ObjectId('58c1ab158a6818087a847a0f'),\n",
       " ObjectId('58c1ab158a6818087a847a10'),\n",
       " ObjectId('58c1ab158a6818087a847a11'),\n",
       " ObjectId('58c1ab158a6818087a847a12'),\n",
       " ObjectId('58c1ab158a6818087a847a13'),\n",
       " ObjectId('58c1ab158a6818087a847a14'),\n",
       " ObjectId('58c1ab158a6818087a847a15'),\n",
       " ObjectId('58c1ab158a6818087a847a16'),\n",
       " ObjectId('58c1ab158a6818087a847a17'),\n",
       " ObjectId('58c1ab158a6818087a847a18'),\n",
       " ObjectId('58c1ab158a6818087a847a19'),\n",
       " ObjectId('58c1ab158a6818087a847a1a'),\n",
       " ObjectId('58c1ab158a6818087a847a1b'),\n",
       " ObjectId('58c1ab158a6818087a847a1c'),\n",
       " ObjectId('58c1ab158a6818087a847a1d'),\n",
       " ObjectId('58c1ab158a6818087a847a1e'),\n",
       " ObjectId('58c1ab158a6818087a847a1f'),\n",
       " ObjectId('58c1ab158a6818087a847a20'),\n",
       " ObjectId('58c1ab158a6818087a847a21'),\n",
       " ObjectId('58c1ab158a6818087a847a22'),\n",
       " ObjectId('58c1ab158a6818087a847a23'),\n",
       " ObjectId('58c1ab158a6818087a847a24'),\n",
       " ObjectId('58c1ab158a6818087a847a25'),\n",
       " ObjectId('58c1ab158a6818087a847a26'),\n",
       " ObjectId('58c1ab158a6818087a847a27'),\n",
       " ObjectId('58c1ab158a6818087a847a28'),\n",
       " ObjectId('58c1ab158a6818087a847a29'),\n",
       " ObjectId('58c1ab158a6818087a847a2a'),\n",
       " ObjectId('58c1ab158a6818087a847a2b'),\n",
       " ObjectId('58c1ab158a6818087a847a2c'),\n",
       " ObjectId('58c1ab158a6818087a847a2d'),\n",
       " ObjectId('58c1ab158a6818087a847a2e'),\n",
       " ObjectId('58c1ab158a6818087a847a2f'),\n",
       " ObjectId('58c1ab158a6818087a847a30'),\n",
       " ObjectId('58c1ab158a6818087a847a31'),\n",
       " ObjectId('58c1ab158a6818087a847a32'),\n",
       " ObjectId('58c1ab158a6818087a847a33'),\n",
       " ObjectId('58c1ab158a6818087a847a34'),\n",
       " ObjectId('58c1ab158a6818087a847a35'),\n",
       " ObjectId('58c1ab158a6818087a847a36'),\n",
       " ObjectId('58c1ab158a6818087a847a37'),\n",
       " ObjectId('58c1ab158a6818087a847a38'),\n",
       " ObjectId('58c1ab158a6818087a847a39'),\n",
       " ObjectId('58c1ab158a6818087a847a3a'),\n",
       " ObjectId('58c1ab158a6818087a847a3b'),\n",
       " ObjectId('58c1ab158a6818087a847a3c'),\n",
       " ObjectId('58c1ab158a6818087a847a3d'),\n",
       " ObjectId('58c1ab158a6818087a847a3e'),\n",
       " ObjectId('58c1ab158a6818087a847a3f'),\n",
       " ObjectId('58c1ab158a6818087a847a40'),\n",
       " ObjectId('58c1ab158a6818087a847a41'),\n",
       " ObjectId('58c1ab158a6818087a847a42'),\n",
       " ObjectId('58c1ab158a6818087a847a43'),\n",
       " ObjectId('58c1ab158a6818087a847a44'),\n",
       " ObjectId('58c1ab158a6818087a847a45'),\n",
       " ObjectId('58c1ab158a6818087a847a46'),\n",
       " ObjectId('58c1ab158a6818087a847a47'),\n",
       " ObjectId('58c1ab158a6818087a847a48'),\n",
       " ObjectId('58c1ab158a6818087a847a49'),\n",
       " ObjectId('58c1ab158a6818087a847a4a'),\n",
       " ObjectId('58c1ab158a6818087a847a4b'),\n",
       " ObjectId('58c1ab158a6818087a847a4c'),\n",
       " ObjectId('58c1ab158a6818087a847a4d'),\n",
       " ObjectId('58c1ab158a6818087a847a4e'),\n",
       " ObjectId('58c1ab158a6818087a847a4f'),\n",
       " ObjectId('58c1ab158a6818087a847a50'),\n",
       " ObjectId('58c1ab158a6818087a847a51'),\n",
       " ObjectId('58c1ab158a6818087a847a52'),\n",
       " ObjectId('58c1ab158a6818087a847a53'),\n",
       " ObjectId('58c1ab158a6818087a847a54'),\n",
       " ObjectId('58c1ab158a6818087a847a55'),\n",
       " ObjectId('58c1ab158a6818087a847a56'),\n",
       " ObjectId('58c1ab158a6818087a847a57'),\n",
       " ObjectId('58c1ab158a6818087a847a58'),\n",
       " ObjectId('58c1ab158a6818087a847a59'),\n",
       " ObjectId('58c1ab158a6818087a847a5a'),\n",
       " ObjectId('58c1ab158a6818087a847a5b'),\n",
       " ObjectId('58c1ab158a6818087a847a5c'),\n",
       " ObjectId('58c1ab158a6818087a847a5d'),\n",
       " ObjectId('58c1ab158a6818087a847a5e'),\n",
       " ObjectId('58c1ab158a6818087a847a5f'),\n",
       " ObjectId('58c1ab158a6818087a847a60'),\n",
       " ObjectId('58c1ab158a6818087a847a61'),\n",
       " ObjectId('58c1ab158a6818087a847a62'),\n",
       " ObjectId('58c1ab158a6818087a847a63'),\n",
       " ObjectId('58c1ab158a6818087a847a64'),\n",
       " ObjectId('58c1ab158a6818087a847a65'),\n",
       " ObjectId('58c1ab158a6818087a847a66'),\n",
       " ObjectId('58c1ab158a6818087a847a67'),\n",
       " ObjectId('58c1ab158a6818087a847a68'),\n",
       " ObjectId('58c1ab158a6818087a847a69'),\n",
       " ObjectId('58c1ab158a6818087a847a6a'),\n",
       " ObjectId('58c1ab158a6818087a847a6b'),\n",
       " ObjectId('58c1ab158a6818087a847a6c'),\n",
       " ObjectId('58c1ab158a6818087a847a6d'),\n",
       " ObjectId('58c1ab158a6818087a847a6e'),\n",
       " ObjectId('58c1ab158a6818087a847a6f'),\n",
       " ObjectId('58c1ab158a6818087a847a70'),\n",
       " ObjectId('58c1ab158a6818087a847a71'),\n",
       " ObjectId('58c1ab158a6818087a847a72'),\n",
       " ObjectId('58c1ab158a6818087a847a73'),\n",
       " ObjectId('58c1ab158a6818087a847a74'),\n",
       " ObjectId('58c1ab158a6818087a847a75'),\n",
       " ObjectId('58c1ab158a6818087a847a76'),\n",
       " ObjectId('58c1ab158a6818087a847a77'),\n",
       " ObjectId('58c1ab158a6818087a847a78'),\n",
       " ObjectId('58c1ab158a6818087a847a79'),\n",
       " ObjectId('58c1ab158a6818087a847a7a'),\n",
       " ObjectId('58c1ab158a6818087a847a7b'),\n",
       " ObjectId('58c1ab158a6818087a847a7c'),\n",
       " ObjectId('58c1ab158a6818087a847a7d'),\n",
       " ObjectId('58c1ab158a6818087a847a7e'),\n",
       " ObjectId('58c1ab158a6818087a847a7f'),\n",
       " ObjectId('58c1ab158a6818087a847a80'),\n",
       " ObjectId('58c1ab158a6818087a847a81'),\n",
       " ObjectId('58c1ab158a6818087a847a82'),\n",
       " ObjectId('58c1ab158a6818087a847a83'),\n",
       " ObjectId('58c1ab158a6818087a847a84'),\n",
       " ObjectId('58c1ab158a6818087a847a85'),\n",
       " ObjectId('58c1ab158a6818087a847a86'),\n",
       " ObjectId('58c1ab158a6818087a847a87'),\n",
       " ObjectId('58c1ab158a6818087a847a88'),\n",
       " ObjectId('58c1ab158a6818087a847a89'),\n",
       " ObjectId('58c1ab158a6818087a847a8a'),\n",
       " ObjectId('58c1ab158a6818087a847a8b'),\n",
       " ObjectId('58c1ab158a6818087a847a8c'),\n",
       " ObjectId('58c1ab158a6818087a847a8d'),\n",
       " ObjectId('58c1ab158a6818087a847a8e'),\n",
       " ObjectId('58c1ab158a6818087a847a8f'),\n",
       " ObjectId('58c1ab158a6818087a847a90'),\n",
       " ObjectId('58c1ab158a6818087a847a91'),\n",
       " ObjectId('58c1ab158a6818087a847a92'),\n",
       " ObjectId('58c1ab158a6818087a847a93'),\n",
       " ObjectId('58c1ab158a6818087a847a94'),\n",
       " ObjectId('58c1ab158a6818087a847a95'),\n",
       " ObjectId('58c1ab158a6818087a847a96'),\n",
       " ObjectId('58c1ab158a6818087a847a97'),\n",
       " ObjectId('58c1ab158a6818087a847a98'),\n",
       " ObjectId('58c1ab158a6818087a847a99'),\n",
       " ObjectId('58c1ab158a6818087a847a9a'),\n",
       " ObjectId('58c1ab158a6818087a847a9b'),\n",
       " ObjectId('58c1ab158a6818087a847a9c'),\n",
       " ObjectId('58c1ab158a6818087a847a9d'),\n",
       " ObjectId('58c1ab158a6818087a847a9e'),\n",
       " ObjectId('58c1ab158a6818087a847a9f'),\n",
       " ObjectId('58c1ab158a6818087a847aa0'),\n",
       " ObjectId('58c1ab158a6818087a847aa1'),\n",
       " ObjectId('58c1ab158a6818087a847aa2'),\n",
       " ObjectId('58c1ab158a6818087a847aa3'),\n",
       " ObjectId('58c1ab158a6818087a847aa4'),\n",
       " ObjectId('58c1ab158a6818087a847aa5'),\n",
       " ObjectId('58c1ab158a6818087a847aa6'),\n",
       " ObjectId('58c1ab158a6818087a847aa7'),\n",
       " ObjectId('58c1ab158a6818087a847aa8'),\n",
       " ObjectId('58c1ab158a6818087a847aa9'),\n",
       " ObjectId('58c1ab158a6818087a847aaa'),\n",
       " ObjectId('58c1ab158a6818087a847aab'),\n",
       " ObjectId('58c1ab158a6818087a847aac'),\n",
       " ObjectId('58c1ab158a6818087a847aad'),\n",
       " ObjectId('58c1ab158a6818087a847aae'),\n",
       " ObjectId('58c1ab158a6818087a847aaf'),\n",
       " ObjectId('58c1ab158a6818087a847ab0'),\n",
       " ObjectId('58c1ab158a6818087a847ab1'),\n",
       " ObjectId('58c1ab158a6818087a847ab2'),\n",
       " ObjectId('58c1ab158a6818087a847ab3'),\n",
       " ObjectId('58c1ab158a6818087a847ab4'),\n",
       " ObjectId('58c1ab158a6818087a847ab5'),\n",
       " ObjectId('58c1ab158a6818087a847ab6'),\n",
       " ObjectId('58c1ab158a6818087a847ab7'),\n",
       " ObjectId('58c1ab158a6818087a847ab8'),\n",
       " ObjectId('58c1ab158a6818087a847ab9'),\n",
       " ObjectId('58c1ab158a6818087a847aba'),\n",
       " ObjectId('58c1ab158a6818087a847abb'),\n",
       " ObjectId('58c1ab158a6818087a847abc'),\n",
       " ObjectId('58c1ab158a6818087a847abd'),\n",
       " ObjectId('58c1ab158a6818087a847abe'),\n",
       " ObjectId('58c1ab158a6818087a847abf'),\n",
       " ObjectId('58c1ab158a6818087a847ac0'),\n",
       " ObjectId('58c1ab158a6818087a847ac1'),\n",
       " ObjectId('58c1ab158a6818087a847ac2'),\n",
       " ObjectId('58c1ab158a6818087a847ac3'),\n",
       " ObjectId('58c1ab158a6818087a847ac4'),\n",
       " ObjectId('58c1ab158a6818087a847ac5'),\n",
       " ObjectId('58c1ab158a6818087a847ac6'),\n",
       " ObjectId('58c1ab158a6818087a847ac7'),\n",
       " ObjectId('58c1ab158a6818087a847ac8'),\n",
       " ObjectId('58c1ab158a6818087a847ac9'),\n",
       " ObjectId('58c1ab158a6818087a847aca'),\n",
       " ObjectId('58c1ab158a6818087a847acb'),\n",
       " ObjectId('58c1ab158a6818087a847acc'),\n",
       " ObjectId('58c1ab158a6818087a847acd'),\n",
       " ObjectId('58c1ab158a6818087a847ace'),\n",
       " ObjectId('58c1ab158a6818087a847acf'),\n",
       " ObjectId('58c1ab158a6818087a847ad0'),\n",
       " ObjectId('58c1ab158a6818087a847ad1'),\n",
       " ObjectId('58c1ab158a6818087a847ad2'),\n",
       " ObjectId('58c1ab158a6818087a847ad3'),\n",
       " ObjectId('58c1ab158a6818087a847ad4'),\n",
       " ObjectId('58c1ab158a6818087a847ad5'),\n",
       " ObjectId('58c1ab158a6818087a847ad6'),\n",
       " ObjectId('58c1ab158a6818087a847ad7'),\n",
       " ObjectId('58c1ab158a6818087a847ad8'),\n",
       " ObjectId('58c1ab158a6818087a847ad9'),\n",
       " ObjectId('58c1ab158a6818087a847ada'),\n",
       " ObjectId('58c1ab158a6818087a847adb'),\n",
       " ObjectId('58c1ab158a6818087a847adc'),\n",
       " ObjectId('58c1ab158a6818087a847add'),\n",
       " ObjectId('58c1ab158a6818087a847ade'),\n",
       " ObjectId('58c1ab158a6818087a847adf'),\n",
       " ObjectId('58c1ab158a6818087a847ae0'),\n",
       " ObjectId('58c1ab158a6818087a847ae1'),\n",
       " ObjectId('58c1ab158a6818087a847ae2'),\n",
       " ObjectId('58c1ab158a6818087a847ae3'),\n",
       " ObjectId('58c1ab158a6818087a847ae4'),\n",
       " ObjectId('58c1ab158a6818087a847ae5'),\n",
       " ObjectId('58c1ab158a6818087a847ae6'),\n",
       " ObjectId('58c1ab158a6818087a847ae7'),\n",
       " ObjectId('58c1ab158a6818087a847ae8'),\n",
       " ObjectId('58c1ab158a6818087a847ae9'),\n",
       " ObjectId('58c1ab158a6818087a847aea'),\n",
       " ObjectId('58c1ab158a6818087a847aeb'),\n",
       " ObjectId('58c1ab158a6818087a847aec'),\n",
       " ObjectId('58c1ab158a6818087a847aed'),\n",
       " ObjectId('58c1ab158a6818087a847aee'),\n",
       " ObjectId('58c1ab158a6818087a847aef'),\n",
       " ObjectId('58c1ab158a6818087a847af0'),\n",
       " ObjectId('58c1ab158a6818087a847af1'),\n",
       " ObjectId('58c1ab158a6818087a847af2'),\n",
       " ObjectId('58c1ab158a6818087a847af3'),\n",
       " ObjectId('58c1ab158a6818087a847af4'),\n",
       " ObjectId('58c1ab158a6818087a847af5'),\n",
       " ObjectId('58c1ab158a6818087a847af6'),\n",
       " ObjectId('58c1ab158a6818087a847af7'),\n",
       " ObjectId('58c1ab158a6818087a847af8'),\n",
       " ObjectId('58c1ab158a6818087a847af9'),\n",
       " ObjectId('58c1ab158a6818087a847afa'),\n",
       " ObjectId('58c1ab158a6818087a847afb'),\n",
       " ObjectId('58c1ab158a6818087a847afc'),\n",
       " ObjectId('58c1ab158a6818087a847afd'),\n",
       " ObjectId('58c1ab158a6818087a847afe'),\n",
       " ObjectId('58c1ab158a6818087a847aff'),\n",
       " ObjectId('58c1ab158a6818087a847b00'),\n",
       " ObjectId('58c1ab158a6818087a847b01'),\n",
       " ObjectId('58c1ab158a6818087a847b02'),\n",
       " ObjectId('58c1ab158a6818087a847b03'),\n",
       " ObjectId('58c1ab158a6818087a847b04'),\n",
       " ObjectId('58c1ab158a6818087a847b05'),\n",
       " ObjectId('58c1ab158a6818087a847b06'),\n",
       " ObjectId('58c1ab158a6818087a847b07'),\n",
       " ObjectId('58c1ab158a6818087a847b08'),\n",
       " ObjectId('58c1ab158a6818087a847b09'),\n",
       " ObjectId('58c1ab158a6818087a847b0a'),\n",
       " ObjectId('58c1ab158a6818087a847b0b'),\n",
       " ObjectId('58c1ab158a6818087a847b0c'),\n",
       " ObjectId('58c1ab158a6818087a847b0d'),\n",
       " ObjectId('58c1ab158a6818087a847b0e'),\n",
       " ObjectId('58c1ab158a6818087a847b0f'),\n",
       " ObjectId('58c1ab158a6818087a847b10'),\n",
       " ObjectId('58c1ab158a6818087a847b11'),\n",
       " ObjectId('58c1ab158a6818087a847b12'),\n",
       " ObjectId('58c1ab158a6818087a847b13'),\n",
       " ObjectId('58c1ab158a6818087a847b14'),\n",
       " ObjectId('58c1ab158a6818087a847b15'),\n",
       " ObjectId('58c1ab158a6818087a847b16'),\n",
       " ObjectId('58c1ab158a6818087a847b17'),\n",
       " ObjectId('58c1ab158a6818087a847b18'),\n",
       " ObjectId('58c1ab158a6818087a847b19'),\n",
       " ObjectId('58c1ab158a6818087a847b1a'),\n",
       " ObjectId('58c1ab158a6818087a847b1b'),\n",
       " ObjectId('58c1ab158a6818087a847b1c'),\n",
       " ObjectId('58c1ab158a6818087a847b1d'),\n",
       " ObjectId('58c1ab158a6818087a847b1e'),\n",
       " ObjectId('58c1ab158a6818087a847b1f'),\n",
       " ObjectId('58c1ab158a6818087a847b20'),\n",
       " ObjectId('58c1ab158a6818087a847b21'),\n",
       " ObjectId('58c1ab158a6818087a847b22'),\n",
       " ObjectId('58c1ab158a6818087a847b23'),\n",
       " ObjectId('58c1ab158a6818087a847b24'),\n",
       " ObjectId('58c1ab158a6818087a847b25'),\n",
       " ObjectId('58c1ab158a6818087a847b26'),\n",
       " ObjectId('58c1ab158a6818087a847b27'),\n",
       " ObjectId('58c1ab158a6818087a847b28'),\n",
       " ObjectId('58c1ab158a6818087a847b29'),\n",
       " ObjectId('58c1ab158a6818087a847b2a'),\n",
       " ObjectId('58c1ab158a6818087a847b2b'),\n",
       " ObjectId('58c1ab158a6818087a847b2c'),\n",
       " ObjectId('58c1ab158a6818087a847b2d'),\n",
       " ObjectId('58c1ab158a6818087a847b2e'),\n",
       " ObjectId('58c1ab158a6818087a847b2f'),\n",
       " ObjectId('58c1ab158a6818087a847b30'),\n",
       " ObjectId('58c1ab158a6818087a847b31'),\n",
       " ObjectId('58c1ab158a6818087a847b32'),\n",
       " ObjectId('58c1ab158a6818087a847b33'),\n",
       " ObjectId('58c1ab158a6818087a847b34'),\n",
       " ObjectId('58c1ab158a6818087a847b35'),\n",
       " ObjectId('58c1ab158a6818087a847b36'),\n",
       " ObjectId('58c1ab158a6818087a847b37'),\n",
       " ObjectId('58c1ab158a6818087a847b38'),\n",
       " ObjectId('58c1ab158a6818087a847b39'),\n",
       " ObjectId('58c1ab158a6818087a847b3a'),\n",
       " ObjectId('58c1ab158a6818087a847b3b'),\n",
       " ObjectId('58c1ab158a6818087a847b3c'),\n",
       " ObjectId('58c1ab158a6818087a847b3d'),\n",
       " ObjectId('58c1ab158a6818087a847b3e'),\n",
       " ObjectId('58c1ab158a6818087a847b3f'),\n",
       " ObjectId('58c1ab158a6818087a847b40'),\n",
       " ObjectId('58c1ab158a6818087a847b41'),\n",
       " ObjectId('58c1ab158a6818087a847b42'),\n",
       " ObjectId('58c1ab158a6818087a847b43'),\n",
       " ObjectId('58c1ab158a6818087a847b44'),\n",
       " ObjectId('58c1ab158a6818087a847b45'),\n",
       " ObjectId('58c1ab158a6818087a847b46'),\n",
       " ObjectId('58c1ab158a6818087a847b47'),\n",
       " ObjectId('58c1ab158a6818087a847b48'),\n",
       " ObjectId('58c1ab158a6818087a847b49'),\n",
       " ObjectId('58c1ab158a6818087a847b4a'),\n",
       " ObjectId('58c1ab158a6818087a847b4b'),\n",
       " ObjectId('58c1ab158a6818087a847b4c'),\n",
       " ObjectId('58c1ab158a6818087a847b4d'),\n",
       " ObjectId('58c1ab158a6818087a847b4e'),\n",
       " ObjectId('58c1ab158a6818087a847b4f'),\n",
       " ObjectId('58c1ab158a6818087a847b50'),\n",
       " ObjectId('58c1ab158a6818087a847b51'),\n",
       " ObjectId('58c1ab158a6818087a847b52'),\n",
       " ObjectId('58c1ab158a6818087a847b53'),\n",
       " ObjectId('58c1ab158a6818087a847b54'),\n",
       " ObjectId('58c1ab158a6818087a847b55'),\n",
       " ObjectId('58c1ab158a6818087a847b56'),\n",
       " ObjectId('58c1ab158a6818087a847b57'),\n",
       " ObjectId('58c1ab158a6818087a847b58'),\n",
       " ObjectId('58c1ab158a6818087a847b59'),\n",
       " ObjectId('58c1ab158a6818087a847b5a'),\n",
       " ObjectId('58c1ab158a6818087a847b5b'),\n",
       " ObjectId('58c1ab158a6818087a847b5c'),\n",
       " ObjectId('58c1ab158a6818087a847b5d'),\n",
       " ObjectId('58c1ab158a6818087a847b5e'),\n",
       " ObjectId('58c1ab158a6818087a847b5f'),\n",
       " ObjectId('58c1ab158a6818087a847b60'),\n",
       " ObjectId('58c1ab158a6818087a847b61'),\n",
       " ObjectId('58c1ab158a6818087a847b62'),\n",
       " ObjectId('58c1ab158a6818087a847b63'),\n",
       " ObjectId('58c1ab158a6818087a847b64'),\n",
       " ObjectId('58c1ab158a6818087a847b65'),\n",
       " ObjectId('58c1ab158a6818087a847b66'),\n",
       " ObjectId('58c1ab158a6818087a847b67'),\n",
       " ObjectId('58c1ab158a6818087a847b68'),\n",
       " ObjectId('58c1ab158a6818087a847b69'),\n",
       " ObjectId('58c1ab158a6818087a847b6a'),\n",
       " ObjectId('58c1ab158a6818087a847b6b'),\n",
       " ObjectId('58c1ab158a6818087a847b6c'),\n",
       " ObjectId('58c1ab158a6818087a847b6d'),\n",
       " ObjectId('58c1ab158a6818087a847b6e'),\n",
       " ObjectId('58c1ab158a6818087a847b6f'),\n",
       " ObjectId('58c1ab158a6818087a847b70'),\n",
       " ObjectId('58c1ab158a6818087a847b71'),\n",
       " ObjectId('58c1ab158a6818087a847b72'),\n",
       " ObjectId('58c1ab158a6818087a847b73'),\n",
       " ObjectId('58c1ab158a6818087a847b74'),\n",
       " ObjectId('58c1ab158a6818087a847b75'),\n",
       " ObjectId('58c1ab158a6818087a847b76'),\n",
       " ObjectId('58c1ab158a6818087a847b77'),\n",
       " ObjectId('58c1ab158a6818087a847b78'),\n",
       " ObjectId('58c1ab158a6818087a847b79'),\n",
       " ObjectId('58c1ab158a6818087a847b7a'),\n",
       " ObjectId('58c1ab158a6818087a847b7b'),\n",
       " ObjectId('58c1ab158a6818087a847b7c'),\n",
       " ObjectId('58c1ab158a6818087a847b7d'),\n",
       " ObjectId('58c1ab158a6818087a847b7e'),\n",
       " ObjectId('58c1ab158a6818087a847b7f'),\n",
       " ObjectId('58c1ab158a6818087a847b80'),\n",
       " ...]"
      ]
     },
     "execution_count": 339,
     "metadata": {},
     "output_type": "execute_result"
    }
   ],
   "source": [
    "import json\n",
    "records = json.loads(store).values()\n",
    "jobmongo.insert(records)"
   ]
  },
  {
   "cell_type": "code",
   "execution_count": 338,
   "metadata": {
    "collapsed": false
   },
   "outputs": [],
   "source": [
    "appclient = MongoClient(port= 27017, host = '54.201.68.29')\n",
    "db = appclient.jobdescriptiondb\n",
    "jobmongo = db.jobapp"
   ]
  },
  {
   "cell_type": "code",
   "execution_count": 311,
   "metadata": {
    "collapsed": false
   },
   "outputs": [
    {
     "data": {
      "text/plain": [
       "u'Production Artist'"
      ]
     },
     "execution_count": 311,
     "metadata": {},
     "output_type": "execute_result"
    }
   ],
   "source": [
    "jobmongo.find_one({'df_ind': 1000}, {'job_url': 1, 'title': 1})['title'].strip()"
   ]
  },
  {
   "cell_type": "code",
   "execution_count": null,
   "metadata": {
    "collapsed": true
   },
   "outputs": [],
   "source": [
    "# use with 2grams?"
   ]
  }
 ],
 "metadata": {
  "anaconda-cloud": {},
  "kernelspec": {
   "display_name": "Python [conda root]",
   "language": "python",
   "name": "conda-root-py"
  },
  "language_info": {
   "codemirror_mode": {
    "name": "ipython",
    "version": 2
   },
   "file_extension": ".py",
   "mimetype": "text/x-python",
   "name": "python",
   "nbconvert_exporter": "python",
   "pygments_lexer": "ipython2",
   "version": "2.7.12"
  }
 },
 "nbformat": 4,
 "nbformat_minor": 1
}
